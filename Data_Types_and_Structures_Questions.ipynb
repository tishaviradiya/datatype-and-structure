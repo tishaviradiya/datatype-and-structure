{
  "nbformat": 4,
  "nbformat_minor": 0,
  "metadata": {
    "colab": {
      "provenance": []
    },
    "kernelspec": {
      "name": "python3",
      "display_name": "Python 3"
    },
    "language_info": {
      "name": "python"
    }
  },
  "cells": [
    {
      "cell_type": "code",
      "execution_count": null,
      "metadata": {
        "id": "iN2dxNsB5B_L"
      },
      "outputs": [],
      "source": [
        "# 1. Create a string with your name and print it.\n",
        "name = \"Alice\"\n",
        "print(name)"
      ]
    },
    {
      "cell_type": "code",
      "source": [
        "# 2. Find the length of the string \"Hello World\".\n",
        "length = len(\"Hello World\")\n",
        "print(length)"
      ],
      "metadata": {
        "id": "80t8-rS86ZpL"
      },
      "execution_count": null,
      "outputs": []
    },
    {
      "cell_type": "code",
      "source": [
        "# 3. Slice the first 3 characters from the string \"Python Programming\".\n",
        "sliced = \"Python Programming\"[:3]\n",
        "print(sliced)"
      ],
      "metadata": {
        "id": "Qq97uagE6umI"
      },
      "execution_count": null,
      "outputs": []
    },
    {
      "cell_type": "code",
      "source": [
        "# 4. Convert the string \"hello\" to uppercase.\n",
        "uppercase = \"hello\".upper()\n",
        "print(uppercase)"
      ],
      "metadata": {
        "id": "pbhbTejX6xkT"
      },
      "execution_count": null,
      "outputs": []
    },
    {
      "cell_type": "code",
      "source": [
        "# 5. Replace the word \"apple\" with \"orange\" in the string \"I like apple\".\n",
        "replaced = \"I like apple\".replace(\"apple\", \"orange\")\n",
        "print(replaced)"
      ],
      "metadata": {
        "id": "EKbdsI6N60W9"
      },
      "execution_count": null,
      "outputs": []
    },
    {
      "cell_type": "code",
      "source": [
        "# 6. Create a list with numbers 1 to 5 and print it.\n",
        "numbers = [1, 2, 3, 4, 5]\n",
        "print(numbers)\n"
      ],
      "metadata": {
        "id": "QemermuG63Sg"
      },
      "execution_count": null,
      "outputs": []
    },
    {
      "cell_type": "code",
      "source": [
        "# 7. Append the number 10 to the list [1, 2, 3, 4].\n",
        "lst = [1, 2, 3, 4]\n",
        "lst.append(10)\n",
        "print(lst)"
      ],
      "metadata": {
        "id": "UDefTDV068ON"
      },
      "execution_count": null,
      "outputs": []
    },
    {
      "cell_type": "code",
      "source": [
        "# 8. Remove the number 3 from the list [1, 2, 3, 4, 5].\n",
        "lst2 = [1, 2, 3, 4, 5]\n",
        "lst2.remove(3)\n",
        "print(lst2)"
      ],
      "metadata": {
        "id": "FTMlv69Z7Aqk"
      },
      "execution_count": null,
      "outputs": []
    },
    {
      "cell_type": "code",
      "source": [
        "# 9. Access the second element in the list ['a', 'b', 'c', 'd'].\n",
        "letters = ['a', 'b', 'c', 'd']\n",
        "print(letters[1])  # Indexing starts at 0"
      ],
      "metadata": {
        "id": "QHhrrWpH7BNH"
      },
      "execution_count": null,
      "outputs": []
    },
    {
      "cell_type": "code",
      "source": [
        "\n",
        "# 10. Reverse the list [10, 20, 30, 40, 50].\n",
        "lst3 = [10, 20, 30, 40, 50]\n",
        "lst3.reverse()\n",
        "print(lst3)"
      ],
      "metadata": {
        "id": "7EWTxo8x7DL4"
      },
      "execution_count": null,
      "outputs": []
    },
    {
      "cell_type": "code",
      "source": [
        "# 11. Create a tuple with elements 100, 200, 300 and print it.\n",
        "t = (100, 200, 300)\n",
        "print(t)"
      ],
      "metadata": {
        "id": "2qyO3Bl37GHC"
      },
      "execution_count": null,
      "outputs": []
    },
    {
      "cell_type": "code",
      "source": [
        "# 12. Access the second-to-last element of ('red', 'green', 'blue', 'yellow').\n",
        "colors = ('red', 'green', 'blue', 'yellow')\n",
        "print(colors[-2])"
      ],
      "metadata": {
        "id": "-gxjgGYZ7IS-"
      },
      "execution_count": null,
      "outputs": []
    },
    {
      "cell_type": "code",
      "source": [
        "# 13. Find the minimum number in the tuple (10, 20, 5, 15).\n",
        "nums = (10, 20, 5, 15)\n",
        "print(min(nums))"
      ],
      "metadata": {
        "id": "4JyLWRdX7KG7"
      },
      "execution_count": null,
      "outputs": []
    },
    {
      "cell_type": "code",
      "source": [
        "# 14. Find the index of \"cat\" in ('dog', 'cat', 'rabbit').\n",
        "animals = ('dog', 'cat', 'rabbit')\n",
        "print(animals.index('cat'))"
      ],
      "metadata": {
        "id": "foCptX897Lw-"
      },
      "execution_count": null,
      "outputs": []
    },
    {
      "cell_type": "code",
      "source": [
        "# 15. Create a tuple with three fruits and check if \"kiwi\" is in it.\n",
        "fruits = ('apple', 'banana', 'kiwi')\n",
        "print(\"kiwi\" in fruits)"
      ],
      "metadata": {
        "id": "mFsnG9v27Nez"
      },
      "execution_count": null,
      "outputs": []
    },
    {
      "cell_type": "code",
      "source": [
        "\n",
        "# 16. Create a set with elements 'a', 'b', 'c' and print it.\n",
        "s = {'a', 'b', 'c'}\n",
        "print(s)"
      ],
      "metadata": {
        "id": "pnK5i7jX7PGR"
      },
      "execution_count": null,
      "outputs": []
    },
    {
      "cell_type": "code",
      "source": [
        "# 17. Clear all elements from the set {1, 2, 3, 4, 5}.\n",
        "s2 = {1, 2, 3, 4, 5}\n",
        "s2.clear()\n",
        "print(s2)"
      ],
      "metadata": {
        "id": "Ov7UCbb27Qpf"
      },
      "execution_count": null,
      "outputs": []
    },
    {
      "cell_type": "code",
      "source": [
        "# 18. Remove the element 4 from the set {1, 2, 3, 4}.\n",
        "s3 = {1, 2, 3, 4}\n",
        "s3.remove(4)\n",
        "print(s3)"
      ],
      "metadata": {
        "id": "AKKmrh3U7SP5"
      },
      "execution_count": null,
      "outputs": []
    },
    {
      "cell_type": "code",
      "source": [
        "# 19. Find the union of two sets {1, 2, 3} and {3, 4, 5}.\n",
        "set1 = {1, 2, 3}\n",
        "set2 = {3, 4, 5}\n",
        "print(set1.union(set2))"
      ],
      "metadata": {
        "id": "HTnKuJqH7qbt"
      },
      "execution_count": null,
      "outputs": []
    },
    {
      "cell_type": "code",
      "source": [
        "\n",
        "# 20. Find the intersection of two sets {1, 2, 3} and {2, 3, 4}.\n",
        "print(set1.intersection(set2))"
      ],
      "metadata": {
        "id": "c6d3jvG57rB9"
      },
      "execution_count": null,
      "outputs": []
    },
    {
      "cell_type": "code",
      "source": [
        "# 21. Create a dictionary with keys \"name\", \"age\", and \"city\", and print it.\n",
        "person = {\"name\": \"Alice\", \"age\": 25, \"city\": \"Paris\"}\n",
        "print(person)"
      ],
      "metadata": {
        "id": "pqMPDOxL7tAH"
      },
      "execution_count": null,
      "outputs": []
    },
    {
      "cell_type": "code",
      "source": [
        "# 22. Add a new key-value pair \"country\": \"USA\" to {'name': 'John', 'age': 25}.\n",
        "person2 = {'name': 'John', 'age': 25}\n",
        "person2['country'] = 'USA'\n",
        "print(person2)"
      ],
      "metadata": {
        "id": "5K9VINJV7u-S"
      },
      "execution_count": null,
      "outputs": []
    },
    {
      "cell_type": "code",
      "source": [
        "# 23. Access the value associated with the key \"name\" in {'name': 'Alice', 'age': 30}.\n",
        "person3 = {'name': 'Alice', 'age': 30}\n",
        "print(person3['name'])"
      ],
      "metadata": {
        "id": "vYNPq-T_7xK4"
      },
      "execution_count": null,
      "outputs": []
    },
    {
      "cell_type": "code",
      "source": [
        "# 24. Remove the key \"age\" from {'name': 'Bob', 'age': 22, 'city': 'New York'}.\n",
        "person4 = {'name': 'Bob', 'age': 22, 'city': 'New York'}\n",
        "person4.pop('age')\n",
        "print(person4)"
      ],
      "metadata": {
        "id": "lDn466kL7y9f"
      },
      "execution_count": null,
      "outputs": []
    },
    {
      "cell_type": "code",
      "source": [
        "# 25. Check if the key \"city\" exists in {'name': 'Alice', 'city': 'Paris'}.\n",
        "person5 = {'name': 'Alice', 'city': 'Paris'}\n",
        "print('city' in person5)\n"
      ],
      "metadata": {
        "id": "FFaDyD5d700A"
      },
      "execution_count": null,
      "outputs": []
    },
    {
      "cell_type": "code",
      "source": [
        "# 26. Create a list, a tuple, and a dictionary, and print them all.\n",
        "lst = [1, 2, 3]\n",
        "tpl = (4, 5, 6)\n",
        "dct = {'a': 10, 'b': 20}\n",
        "print(lst, tpl, dct)"
      ],
      "metadata": {
        "id": "55MzliPf72yL"
      },
      "execution_count": null,
      "outputs": []
    },
    {
      "cell_type": "code",
      "source": [
        "# 27. Create a list of 5 random numbers between 1 and 100, sort it ascending, and print.\n",
        "import random\n",
        "rand_nums = random.sample(range(1, 101), 5)\n",
        "rand_nums.sort()\n",
        "print(rand_nums)"
      ],
      "metadata": {
        "id": "4Ww2Xio674f5"
      },
      "execution_count": null,
      "outputs": []
    },
    {
      "cell_type": "code",
      "source": [
        "# 28. Create a list with strings and print the element at the third index.\n",
        "strings = ['apple', 'banana', 'cherry', 'date']\n",
        "print(strings[3])  # Index 3 is the fourth element"
      ],
      "metadata": {
        "id": "M5ieJuyB76NK"
      },
      "execution_count": null,
      "outputs": []
    },
    {
      "cell_type": "code",
      "source": [
        "# 29. Combine two dictionaries into one and print the result.\n",
        "dict1 = {'a': 1, 'b': 2}\n",
        "dict2 = {'c': 3, 'd': 4}\n",
        "combined_dict = {**dict1, **dict2}\n",
        "print(combined_dict)"
      ],
      "metadata": {
        "id": "UGDf2me778FK"
      },
      "execution_count": null,
      "outputs": []
    },
    {
      "cell_type": "code",
      "source": [
        "# 30. Convert a list of strings into a set.\n",
        "list_of_strings = ['a', 'b', 'c', 'a']\n",
        "set_of_strings = set(list_of_strings)\n",
        "print(set_of_strings)"
      ],
      "metadata": {
        "id": "z8H61tI07_aL"
      },
      "execution_count": null,
      "outputs": []
    },
    {
      "cell_type": "code",
      "source": [
        "1. What are data structures, and why are they important?\n",
        "Data structures organize and store data efficiently. They help with fast access, manipulation, and optimization of code.\n",
        "\n"
      ],
      "metadata": {
        "id": "kxZsSau28AEz"
      },
      "execution_count": null,
      "outputs": []
    },
    {
      "cell_type": "code",
      "source": [
        "2. Explain the difference between mutable and immutable data types with examples.\n",
        "Mutable: Can be changed (e.g., list, dict, set).\n",
        "\n",
        "Immutable: Cannot be changed (e.g., int, str, tuple)."
      ],
      "metadata": {
        "id": "00H8loRe8Nzt"
      },
      "execution_count": null,
      "outputs": []
    },
    {
      "cell_type": "code",
      "source": [
        "3.What are the main differences between lists and tuples in Python?\n",
        "Lists are mutable and slower; tuples are immutable and faster. Tuples are often used for fixed data."
      ],
      "metadata": {
        "id": "eq36ldnr8N_l"
      },
      "execution_count": null,
      "outputs": []
    },
    {
      "cell_type": "code",
      "source": [
        "4.Describe how dictionaries store data.\n",
        "Dictionaries store data as key-value pairs using a hash table internally for quick lookups."
      ],
      "metadata": {
        "id": "4oCH84ke8OQM"
      },
      "execution_count": null,
      "outputs": []
    },
    {
      "cell_type": "code",
      "source": [
        "5.Why might you use a set instead of a list in Python?\n",
        "Sets ensure uniqueness and offer faster membership checks due to hashing."
      ],
      "metadata": {
        "id": "z0BluXyV8jcp"
      },
      "execution_count": null,
      "outputs": []
    },
    {
      "cell_type": "code",
      "source": [
        "6.What is a string in Python, and how is it different from a list?\n",
        "A string is an immutable sequence of characters, while a list is mutable and can hold mixed data types."
      ],
      "metadata": {
        "id": "sClWEZw48miG"
      },
      "execution_count": null,
      "outputs": []
    },
    {
      "cell_type": "code",
      "source": [
        "7.How do tuples ensure data integrity in Python?\n",
        "Being immutable, tuples prevent accidental changes, ensuring consistent data."
      ],
      "metadata": {
        "id": "u5iDNsMd8ot5"
      },
      "execution_count": null,
      "outputs": []
    },
    {
      "cell_type": "code",
      "source": [
        "8.What is a hash table, and how does it relate to dictionaries in Python?\n",
        "A hash table maps keys to values using a hash function; Python dictionaries use this to store and access data efficiently."
      ],
      "metadata": {
        "id": "DLFPMJW68qvH"
      },
      "execution_count": null,
      "outputs": []
    },
    {
      "cell_type": "code",
      "source": [
        "9.Can lists contain different data types in Python?\n",
        "Yes, Python lists can hold elements of mixed data types."
      ],
      "metadata": {
        "id": "T7Ft5PF18s_y"
      },
      "execution_count": null,
      "outputs": []
    },
    {
      "cell_type": "code",
      "source": [
        "10.Explain why strings are immutable in Python.\n",
        "Strings are immutable for memory efficiency and security, allowing them to be hashable."
      ],
      "metadata": {
        "id": "ARl-Nxf_8vab"
      },
      "execution_count": null,
      "outputs": []
    },
    {
      "cell_type": "code",
      "source": [
        "11.What advantages do dictionaries offer over lists for certain tasks?\n",
        "Dictionaries allow faster lookups by key and more meaningful data associations."
      ],
      "metadata": {
        "id": "BAvDgRs_8xth"
      },
      "execution_count": null,
      "outputs": []
    },
    {
      "cell_type": "code",
      "source": [
        "12.Describe a scenario where using a tuple would be preferable over a list.\n",
        "Use tuples for fixed collections like coordinates or constant config values."
      ],
      "metadata": {
        "id": "2OwhiUZ08z_O"
      },
      "execution_count": null,
      "outputs": []
    },
    {
      "cell_type": "code",
      "source": [
        "13.How do sets handle duplicate values in Python?\n",
        "Sets automatically discard duplicates and only store unique elements."
      ],
      "metadata": {
        "id": "SKPZg9bY82lv"
      },
      "execution_count": null,
      "outputs": []
    },
    {
      "cell_type": "code",
      "source": [
        "14.How does the “in” keyword work differently for lists and dictionaries?\n",
        "For lists, it checks values; for dictionaries, it checks keys."
      ],
      "metadata": {
        "id": "IBuM_QPG8471"
      },
      "execution_count": null,
      "outputs": []
    },
    {
      "cell_type": "code",
      "source": [
        "15.Can you modify the elements of a tuple? Explain why or why not.\n",
        "No, tuples are immutable; once created, their elements can't be changed."
      ],
      "metadata": {
        "id": "JJ4Sg3mY87OR"
      },
      "execution_count": null,
      "outputs": []
    },
    {
      "cell_type": "code",
      "source": [
        "16.What is a nested dictionary, and give an example of its use case?\n",
        "A dictionary within a dictionary. Example: storing student records with subject-wise scores."
      ],
      "metadata": {
        "id": "Y8JHVZKN89wo"
      },
      "execution_count": null,
      "outputs": []
    },
    {
      "cell_type": "code",
      "source": [
        "17.Describe the time complexity of accessing elements in a dictionary.\n",
        "Average case is O(1) due to hashing."
      ],
      "metadata": {
        "id": "A_CutFFm8_9v"
      },
      "execution_count": null,
      "outputs": []
    },
    {
      "cell_type": "code",
      "source": [
        "18.In what situations are lists preferred over dictionaries?\n",
        "When order matters or when you need indexed access and duplicates."
      ],
      "metadata": {
        "id": "0Fe-NX_N9CJU"
      },
      "execution_count": null,
      "outputs": []
    },
    {
      "cell_type": "code",
      "source": [
        "19.Why are dictionaries considered unordered, and how does that affect data retrieval?\n",
        "Older Python versions (<3.7) didn’t maintain order. Retrieval is by key, not position."
      ],
      "metadata": {
        "id": "y4U7AiVG9EWx"
      },
      "execution_count": null,
      "outputs": []
    },
    {
      "cell_type": "code",
      "source": [
        "20.Explain the difference between a list and a dictionary in terms of data retrieval.\n",
        "Lists retrieve by index, dictionaries retrieve by key—making dicts faster for lookups."
      ],
      "metadata": {
        "id": "abaWGP5L9Gs9"
      },
      "execution_count": null,
      "outputs": []
    }
  ]
}